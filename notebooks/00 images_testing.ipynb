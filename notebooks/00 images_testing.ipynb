{
 "cells": [
  {
   "cell_type": "code",
   "execution_count": 1,
   "metadata": {},
   "outputs": [],
   "source": [
    "import ollama"
   ]
  },
  {
   "cell_type": "code",
   "execution_count": 30,
   "metadata": {},
   "outputs": [
    {
     "name": "stdout",
     "output_type": "stream",
     "text": [
      "[{'role': 'user', 'content': 'What is in this image?', 'images': ['data/test1/IMG_3398.png']}]\n",
      "[{'role': 'user', 'content': 'What is in this image?'}]\n"
     ]
    }
   ],
   "source": [
    "path = 'data/test1/IMG_3398.png'\n",
    "\n",
    "def prompt_img(input_text, path):\n",
    "    \n",
    "    return [{\n",
    "            'role': 'user',\n",
    "            'content': input_text,\n",
    "            'images': [path]\n",
    "        }]\n",
    "    \n",
    "def prompt(input_text):\n",
    "    \n",
    "    return [{\n",
    "            'role': 'user',\n",
    "            'content': input_text\n",
    "        }]\n",
    "    \n",
    "print(prompt_img('What is in this image?', path))\n",
    "print(prompt('What is in this image?', ))"
   ]
  },
  {
   "cell_type": "code",
   "execution_count": 6,
   "metadata": {},
   "outputs": [
    {
     "name": "stdout",
     "output_type": "stream",
     "text": [
      "The sky appears blue to our eyes because of a phenomenon called scattering. When sunlight enters Earth's atmosphere, it encounters tiny molecules of gases such as nitrogen (N2) and oxygen (O2). These molecules scatter the light in all directions.\n",
      "\n",
      "Now, here's the important part: different wavelengths of light are scattered to varying degrees. Blue light has a shorter wavelength than red light, which means it is more easily scattered by the atmospheric molecules. This is known as Rayleigh scattering, named after the British physicist Lord Rayleigh who first described the phenomenon in the late 19th century.\n",
      "\n",
      "As a result of this scattering, the blue light is distributed throughout the atmosphere and reaches our eyes from all directions, making the sky appear blue. The other colors of light, like red and orange, are not scattered as much and continue to travel in a more direct path to our eyes, which is why we see them coming from the direction of the sun.\n",
      "\n",
      "It's worth noting that this effect is more pronounced during the daytime when the sun is overhead, and the sky appears most blue. During sunrise and sunset, the light has to travel through more of the Earth's atmosphere to reach us, scattering off more molecules and making the sky appear more red or orange.\n",
      "\n",
      "I hope this helps you understand why the sky is blue!"
     ]
    }
   ],
   "source": [
    "from ollama import chat\n",
    "\n",
    "stream = chat(\n",
    "    model='llama3.2-vision',\n",
    "    messages=[{'role': 'user', 'content': 'Why is the sky blue?'}],\n",
    "    stream=True,\n",
    ")\n",
    "\n",
    "for chunk in stream:\n",
    "  print(chunk['message']['content'], end='', flush=True)"
   ]
  },
  {
   "cell_type": "code",
   "execution_count": 10,
   "metadata": {},
   "outputs": [
    {
     "name": "stdout",
     "output_type": "stream",
     "text": [
      "model='llama3.2-vision' created_at='2025-01-17T05:10:30.863242625Z' done=True done_reason='stop' total_duration=146345419056 load_duration=161042640 prompt_eval_count=18 prompt_eval_duration=117365000000 eval_count=115 eval_duration=27785000000 message=Message(role='assistant', content='This is a photo of a receipt from a grocery store or similar shop. It shows purchases made by someone during a specific date and time. The receipt includes the following information:\\n\\n* Date: January 4, 2025\\n* Time: 19:47:35 (7:47 pm)\\n* Store name: Not visible in the image\\n* Location: Torre E Piso 36 (a building or address in Spanish)\\n\\nThe receipt lists various items purchased, including food and household goods. The total cost of these items is $217.280.', images=None, tool_calls=None)\n"
     ]
    }
   ],
   "source": [
    "\n",
    "response = ollama.chat(model='llama3.2-vision',messages=message)\n",
    "\n",
    "print(response)"
   ]
  },
  {
   "cell_type": "code",
   "execution_count": 19,
   "metadata": {},
   "outputs": [],
   "source": [
    "  \n",
    "response = ollama.chat(\n",
    "    model='llama3.2-vision',\n",
    "    messages=[{\n",
    "        'role': 'user',\n",
    "        'content': 'What is in this image?',\n",
    "        'images': [path]\n",
    "    }],\n",
    "    stream=True,\n",
    ")\n",
    "\n",
    "# print(response)\n",
    "for chunk in stream:\n",
    "  print(chunk['message']['content'], end='', flush=True)"
   ]
  },
  {
   "cell_type": "code",
   "execution_count": 24,
   "metadata": {},
   "outputs": [
    {
     "name": "stdout",
     "output_type": "stream",
     "text": [
      "This image shows a receipt that appears to be from a grocery store. The receipt is white, with black text and symbols printed on it. It has a crumpled appearance at the top, suggesting it may have been folded or creased before being photographed.\n",
      "\n",
      "**Receipt Details**\n",
      "\n",
      "* **Date**: The date of purchase is not explicitly stated, but the \"Validación Día\" section indicates that the receipt was validated on January 4th.\n",
      "* **Time**: The time of purchase is also not specified, but the \"Validación Hora\" section shows a timestamp of 19:47:35 (7:47 PM).\n",
      "* **Store Name**: The store name is not visible in the image. However, based on the layout and content, it appears to be a standard receipt from a retail establishment.\n",
      "* **Items Purchased**: A list of items purchased is printed on the receipt, including their prices and quantities. Some examples include:\n",
      "\t+ \"VALOR V\" ( likely \"Valor de Venta\" or \"Sale Value\") with a price of $1.000\n",
      "\t+ \"CODIGO DESCRIPCION VALOR ID\"\n",
      "* **Total Amount**: The total amount paid is shown at the bottom of the receipt, which is $217,280.\n",
      "* **Payment Method**: There are no visible payment method details on this receipt.\n",
      "\n",
      "**Background**\n",
      "\n",
      "The background of the image appears to be a light-colored wooden surface, possibly a table or countertop. The lighting in the image suggests that it was taken indoors, with a warm glow illuminating the receipt and surrounding area.\n",
      "\n",
      "**Overall**\n",
      "\n",
      "In summary, this image shows a receipt from an unknown store, dated January 4th, 2025. The receipt lists various items purchased, along with their prices and quantities. The total amount paid is $217,280. There are no visible payment method details or additional information about the transaction.\n",
      "This image shows a receipt that appears to be from a grocery store. The receipt is white, with black text and symbols printed on it. It has a crumpled appearance at the top, suggesting it may have been folded or creased before being photographed.\n",
      "\n",
      "**Receipt Details**\n",
      "\n",
      "* **Date**: The date of purchase is not explicitly stated, but the \"Validación Día\" section indicates that the receipt was validated on January 4th.\n",
      "* **Time**: The time of purchase is also not specified, but the \"Validación Hora\" section shows a timestamp of 19:47:35 (7:47 PM).\n",
      "* **Store Name**: The store name is not visible in the image. However, based on the layout and content, it appears to be a standard receipt from a retail establishment.\n",
      "* **Items Purchased**: A list of items purchased is printed on the receipt, including their prices and quantities. Some examples include:\n",
      "\t+ \"VALOR V\" ( likely \"Valor de Venta\" or \"Sale Value\") with a price of $1.000\n",
      "\t+ \"CODIGO DESCRIPCION VALOR ID\"\n",
      "* **Total Amount**: The total amount paid is shown at the bottom of the receipt, which is $217,280.\n",
      "* **Payment Method**: There are no visible payment method details on this receipt.\n",
      "\n",
      "**Background**\n",
      "\n",
      "The background of the image appears to be a light-colored wooden surface, possibly a table or countertop. The lighting in the image suggests that it was taken indoors, with a warm glow illuminating the receipt and surrounding area.\n",
      "\n",
      "**Overall**\n",
      "\n",
      "In summary, this image shows a receipt from an unknown store, dated January 4th, 2025. The receipt lists various items purchased, along with their prices and quantities. The total amount paid is $217,280. There are no visible payment method details or additional information about the transaction.\n"
     ]
    }
   ],
   "source": [
    "from ollama import chat\n",
    "from ollama import ChatResponse\n",
    "\n",
    "response: ChatResponse = chat(model='llama3.2-vision', messages=message)\n",
    "\n",
    "print(response['message']['content'])\n",
    "\n",
    "# or access fields directly from the response object\n",
    "print(response.message.content)"
   ]
  },
  {
   "cell_type": "code",
   "execution_count": 28,
   "metadata": {},
   "outputs": [
    {
     "data": {
      "text/plain": [
       "ChatResponse(model='llama3.2-vision', created_at='2025-01-17T05:22:11.089461639Z', done=True, done_reason='stop', total_duration=223426126394, load_duration=10106543890, prompt_eval_count=18, prompt_eval_duration=118706000000, eval_count=387, eval_duration=93475000000, message=Message(role='assistant', content='This image shows a receipt that appears to be from a grocery store. The receipt is white, with black text and symbols printed on it. It has a crumpled appearance at the top, suggesting it may have been folded or creased before being photographed.\\n\\n**Receipt Details**\\n\\n* **Date**: The date of purchase is not explicitly stated, but the \"Validación Día\" section indicates that the receipt was validated on January 4th.\\n* **Time**: The time of purchase is also not specified, but the \"Validación Hora\" section shows a timestamp of 19:47:35 (7:47 PM).\\n* **Store Name**: The store name is not visible in the image. However, based on the layout and content, it appears to be a standard receipt from a retail establishment.\\n* **Items Purchased**: A list of items purchased is printed on the receipt, including their prices and quantities. Some examples include:\\n\\t+ \"VALOR V\" ( likely \"Valor de Venta\" or \"Sale Value\") with a price of $1.000\\n\\t+ \"CODIGO DESCRIPCION VALOR ID\"\\n* **Total Amount**: The total amount paid is shown at the bottom of the receipt, which is $217,280.\\n* **Payment Method**: There are no visible payment method details on this receipt.\\n\\n**Background**\\n\\nThe background of the image appears to be a light-colored wooden surface, possibly a table or countertop. The lighting in the image suggests that it was taken indoors, with a warm glow illuminating the receipt and surrounding area.\\n\\n**Overall**\\n\\nIn summary, this image shows a receipt from an unknown store, dated January 4th, 2025. The receipt lists various items purchased, along with their prices and quantities. The total amount paid is $217,280. There are no visible payment method details or additional information about the transaction.', images=None, tool_calls=None))"
      ]
     },
     "execution_count": 28,
     "metadata": {},
     "output_type": "execute_result"
    }
   ],
   "source": [
    "response"
   ]
  },
  {
   "cell_type": "code",
   "execution_count": 27,
   "metadata": {},
   "outputs": [
    {
     "data": {
      "text/plain": [
       "'This image shows a receipt that appears to be from a grocery store. The receipt is white, with black text and symbols printed on it. It has a crumpled appearance at the top, suggesting it may have been folded or creased before being photographed.\\n\\n**Receipt Details**\\n\\n* **Date**: The date of purchase is not explicitly stated, but the \"Validación Día\" section indicates that the receipt was validated on January 4th.\\n* **Time**: The time of purchase is also not specified, but the \"Validación Hora\" section shows a timestamp of 19:47:35 (7:47 PM).\\n* **Store Name**: The store name is not visible in the image. However, based on the layout and content, it appears to be a standard receipt from a retail establishment.\\n* **Items Purchased**: A list of items purchased is printed on the receipt, including their prices and quantities. Some examples include:\\n\\t+ \"VALOR V\" ( likely \"Valor de Venta\" or \"Sale Value\") with a price of $1.000\\n\\t+ \"CODIGO DESCRIPCION VALOR ID\"\\n* **Total Amount**: The total amount paid is shown at the bottom of the receipt, which is $217,280.\\n* **Payment Method**: There are no visible payment method details on this receipt.\\n\\n**Background**\\n\\nThe background of the image appears to be a light-colored wooden surface, possibly a table or countertop. The lighting in the image suggests that it was taken indoors, with a warm glow illuminating the receipt and surrounding area.\\n\\n**Overall**\\n\\nIn summary, this image shows a receipt from an unknown store, dated January 4th, 2025. The receipt lists various items purchased, along with their prices and quantities. The total amount paid is $217,280. There are no visible payment method details or additional information about the transaction.'"
      ]
     },
     "execution_count": 27,
     "metadata": {},
     "output_type": "execute_result"
    }
   ],
   "source": [
    "response['message']['content']"
   ]
  },
  {
   "cell_type": "code",
   "execution_count": 32,
   "metadata": {},
   "outputs": [
    {
     "name": "stdout",
     "output_type": "stream",
     "text": [
      "[{'role': 'user', 'content': 'Please make a summary of: This image shows a receipt that appears to be from a grocery store. The receipt is white, with black text and symbols printed on it. It has a crumpled appearance at the top, suggesting it may have been folded or creased before being photographed.\\n\\n**Receipt Details**\\n\\n* **Date**: The date of purchase is not explicitly stated, but the \"Validación Día\" section indicates that the receipt was validated on January 4th.\\n* **Time**: The time of purchase is also not specified, but the \"Validación Hora\" section shows a timestamp of 19:47:35 (7:47 PM).\\n* **Store Name**: The store name is not visible in the image. However, based on the layout and content, it appears to be a standard receipt from a retail establishment.\\n* **Items Purchased**: A list of items purchased is printed on the receipt, including their prices and quantities. Some examples include:\\n\\t+ \"VALOR V\" ( likely \"Valor de Venta\" or \"Sale Value\") with a price of $1.000\\n\\t+ \"CODIGO DESCRIPCION VALOR ID\"\\n* **Total Amount**: The total amount paid is shown at the bottom of the receipt, which is $217,280.\\n* **Payment Method**: There are no visible payment method details on this receipt.\\n\\n**Background**\\n\\nThe background of the image appears to be a light-colored wooden surface, possibly a table or countertop. The lighting in the image suggests that it was taken indoors, with a warm glow illuminating the receipt and surrounding area.\\n\\n**Overall**\\n\\nIn summary, this image shows a receipt from an unknown store, dated January 4th, 2025. The receipt lists various items purchased, along with their prices and quantities. The total amount paid is $217,280. There are no visible payment method details or additional information about the transaction.'}]\n"
     ]
    }
   ],
   "source": [
    "print(prompt(f\"Please make a summary of: {response['message']['content']}\"))"
   ]
  },
  {
   "cell_type": "code",
   "execution_count": 33,
   "metadata": {},
   "outputs": [
    {
     "name": "stdout",
     "output_type": "stream",
     "text": [
      "Here's a summary of the provided text:\n",
      "\n",
      "The image shows a crumpled grocery store receipt from an unknown store. Key details include:\n",
      "\n",
      "* Date: January 4th (no year specified)\n",
      "* Time: 7:47 PM\n",
      "* Total amount paid: $217,280\n",
      "* Items purchased are listed, but their descriptions and prices are not clearly readable.\n",
      "* No payment method is visible on the receipt.\n",
      "\n",
      "The background of the image appears to be a light-colored wooden surface, taken indoors with warm lighting. The year mentioned in the date (2025) suggests that this is likely a recent receipt from a store that was purchased sometime between January 4th and when the image was taken.\n"
     ]
    }
   ],
   "source": [
    "response2 = chat(model='llama3.2-vision', messages=prompt(f\"Please make a summary of: {response['message']['content']}\"))\n",
    "print(response2['message']['content'])"
   ]
  }
 ],
 "metadata": {
  "kernelspec": {
   "display_name": "Python 3 (ipykernel)",
   "language": "python",
   "name": "python3"
  },
  "language_info": {
   "codemirror_mode": {
    "name": "ipython",
    "version": 3
   },
   "file_extension": ".py",
   "mimetype": "text/x-python",
   "name": "python",
   "nbconvert_exporter": "python",
   "pygments_lexer": "ipython3",
   "version": "3.10.12"
  }
 },
 "nbformat": 4,
 "nbformat_minor": 2
}
